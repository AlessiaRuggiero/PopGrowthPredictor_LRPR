{
 "cells": [
  {
   "cell_type": "markdown",
   "id": "f2028513",
   "metadata": {},
   "source": [
    "# Population Growth Predictor\n",
    "#### TASK: Given a year, the population growth predictor is tasked with performing, and comparing, both linear and polynomial regression to estimate/predict the population size for a given year."
   ]
  },
  {
   "cell_type": "markdown",
   "id": "8332bc67",
   "metadata": {},
   "source": [
    "## Import Modules\n",
    "#### pandas: Python sublibrary used to facilitate data analysis and machine learning tasks\n",
    "#### numpy: Python sublibrary that provides support for work with large, multi-dimensional arrays and matrices\n",
    "#### matplotlib: Python sublibrary that facilitates graphical visualization of data.\n",
    "#### sklearn: Python sublibrary that provides tools for statistical modeling and machine learning tasks"
   ]
  },
  {
   "cell_type": "code",
   "execution_count": 235,
   "id": "69237b0a",
   "metadata": {},
   "outputs": [],
   "source": [
    "import pandas as pd\n",
    "import numpy as np\n",
    "import matplotlib.pyplot as plt\n",
    "from sklearn.linear_model import LinearRegression\n",
    "from sklearn.preprocessing import PolynomialFeatures\n",
    "from sklearn.metrics import mean_squared_error, r2_score\n",
    "from sklearn.model_selection import train_test_split, RepeatedKFold, cross_val_score"
   ]
  },
  {
   "cell_type": "markdown",
   "id": "ab0f7f26",
   "metadata": {},
   "source": [
    "## Read in Data"
   ]
  },
  {
   "cell_type": "code",
   "execution_count": 236,
   "id": "cd49d1ba",
   "metadata": {},
   "outputs": [
    {
     "name": "stdout",
     "output_type": "stream",
     "text": [
      "                  Country Name Country Code     Indicator Name Indicator Code  \\\n",
      "0                        Aruba          ABW  Population, total    SP.POP.TOTL   \n",
      "1  Africa Eastern and Southern          AFE  Population, total    SP.POP.TOTL   \n",
      "2                  Afghanistan          AFG  Population, total    SP.POP.TOTL   \n",
      "3   Africa Western and Central          AFW  Population, total    SP.POP.TOTL   \n",
      "4                       Angola          AGO  Population, total    SP.POP.TOTL   \n",
      "\n",
      "          1960         1961         1962         1963         1964  \\\n",
      "0      54208.0      55434.0      56234.0      56699.0      57029.0   \n",
      "1  130836765.0  134159786.0  137614644.0  141202036.0  144920186.0   \n",
      "2    8996967.0    9169406.0    9351442.0    9543200.0    9744772.0   \n",
      "3   96396419.0   98407221.0  100506960.0  102691339.0  104953470.0   \n",
      "4    5454938.0    5531451.0    5608499.0    5679409.0    5734995.0   \n",
      "\n",
      "          1965  ...         2013         2014         2015         2016  \\\n",
      "0      57357.0  ...     103165.0     103776.0     104339.0     104865.0   \n",
      "1  148769974.0  ...  562601578.0  578075373.0  593871847.0  609978946.0   \n",
      "2    9956318.0  ...   32269592.0   33370804.0   34413603.0   35383028.0   \n",
      "3  107289875.0  ...  380437896.0  390882979.0  401586651.0  412551299.0   \n",
      "4    5770573.0  ...   26015786.0   26941773.0   27884380.0   28842482.0   \n",
      "\n",
      "          2017         2018         2019         2020         2021  \\\n",
      "0     105361.0     105846.0     106310.0     106766.0     107195.0   \n",
      "1  626392880.0  643090131.0  660046272.0  677243299.0  694665117.0   \n",
      "2   36296111.0   37171922.0   38041757.0   38928341.0   39835428.0   \n",
      "3  423769930.0  435229381.0  446911598.0  458803476.0  470898870.0   \n",
      "4   29816769.0   30809787.0   31825299.0   32866268.0   33933611.0   \n",
      "\n",
      "   Unnamed: 66  \n",
      "0          NaN  \n",
      "1          NaN  \n",
      "2          NaN  \n",
      "3          NaN  \n",
      "4          NaN  \n",
      "\n",
      "[5 rows x 67 columns]\n"
     ]
    }
   ],
   "source": [
    "worldpop = pd.read_csv('WorldPopulation.csv')\n",
    "print(worldpop.head())"
   ]
  },
  {
   "cell_type": "markdown",
   "id": "a339cdb2",
   "metadata": {},
   "source": [
    "## Analyze the Data"
   ]
  },
  {
   "cell_type": "code",
   "execution_count": 237,
   "id": "e666696f",
   "metadata": {},
   "outputs": [
    {
     "name": "stdout",
     "output_type": "stream",
     "text": [
      "<class 'pandas.core.frame.DataFrame'>\n",
      "RangeIndex: 266 entries, 0 to 265\n",
      "Data columns (total 67 columns):\n",
      " #   Column          Non-Null Count  Dtype  \n",
      "---  ------          --------------  -----  \n",
      " 0   Country Name    266 non-null    object \n",
      " 1   Country Code    266 non-null    object \n",
      " 2   Indicator Name  266 non-null    object \n",
      " 3   Indicator Code  266 non-null    object \n",
      " 4   1960            264 non-null    float64\n",
      " 5   1961            264 non-null    float64\n",
      " 6   1962            264 non-null    float64\n",
      " 7   1963            264 non-null    float64\n",
      " 8   1964            264 non-null    float64\n",
      " 9   1965            264 non-null    float64\n",
      " 10  1966            264 non-null    float64\n",
      " 11  1967            264 non-null    float64\n",
      " 12  1968            264 non-null    float64\n",
      " 13  1969            264 non-null    float64\n",
      " 14  1970            264 non-null    float64\n",
      " 15  1971            264 non-null    float64\n",
      " 16  1972            264 non-null    float64\n",
      " 17  1973            264 non-null    float64\n",
      " 18  1974            264 non-null    float64\n",
      " 19  1975            264 non-null    float64\n",
      " 20  1976            264 non-null    float64\n",
      " 21  1977            264 non-null    float64\n",
      " 22  1978            264 non-null    float64\n",
      " 23  1979            264 non-null    float64\n",
      " 24  1980            264 non-null    float64\n",
      " 25  1981            264 non-null    float64\n",
      " 26  1982            264 non-null    float64\n",
      " 27  1983            264 non-null    float64\n",
      " 28  1984            264 non-null    float64\n",
      " 29  1985            264 non-null    float64\n",
      " 30  1986            264 non-null    float64\n",
      " 31  1987            264 non-null    float64\n",
      " 32  1988            264 non-null    float64\n",
      " 33  1989            264 non-null    float64\n",
      " 34  1990            265 non-null    float64\n",
      " 35  1991            265 non-null    float64\n",
      " 36  1992            264 non-null    float64\n",
      " 37  1993            264 non-null    float64\n",
      " 38  1994            264 non-null    float64\n",
      " 39  1995            265 non-null    float64\n",
      " 40  1996            265 non-null    float64\n",
      " 41  1997            265 non-null    float64\n",
      " 42  1998            265 non-null    float64\n",
      " 43  1999            265 non-null    float64\n",
      " 44  2000            265 non-null    float64\n",
      " 45  2001            265 non-null    float64\n",
      " 46  2002            265 non-null    float64\n",
      " 47  2003            265 non-null    float64\n",
      " 48  2004            265 non-null    float64\n",
      " 49  2005            265 non-null    float64\n",
      " 50  2006            265 non-null    float64\n",
      " 51  2007            265 non-null    float64\n",
      " 52  2008            265 non-null    float64\n",
      " 53  2009            265 non-null    float64\n",
      " 54  2010            265 non-null    float64\n",
      " 55  2011            265 non-null    float64\n",
      " 56  2012            264 non-null    float64\n",
      " 57  2013            264 non-null    float64\n",
      " 58  2014            264 non-null    float64\n",
      " 59  2015            264 non-null    float64\n",
      " 60  2016            264 non-null    float64\n",
      " 61  2017            264 non-null    float64\n",
      " 62  2018            264 non-null    float64\n",
      " 63  2019            264 non-null    float64\n",
      " 64  2020            264 non-null    float64\n",
      " 65  2021            264 non-null    float64\n",
      " 66  Unnamed: 66     0 non-null      float64\n",
      "dtypes: float64(63), object(4)\n",
      "memory usage: 139.4+ KB\n"
     ]
    }
   ],
   "source": [
    "worldpop.info()"
   ]
  },
  {
   "cell_type": "markdown",
   "id": "230c12b7",
   "metadata": {},
   "source": [
    "## Create Single Country DataFrame"
   ]
  },
  {
   "cell_type": "code",
   "execution_count": 238,
   "id": "d4647d74",
   "metadata": {},
   "outputs": [
    {
     "name": "stdout",
     "output_type": "stream",
     "text": [
      "Enter country name: United Kingdom\n",
      "              81\n",
      "1960  52400000.0\n",
      "1961  52800000.0\n",
      "1962  53250000.0\n",
      "1963  53650000.0\n",
      "1964  54000000.0\n"
     ]
    }
   ],
   "source": [
    "# Create df\n",
    "country = input('Enter country name: ') #country = \"United Kingdom\"\n",
    "country_data = worldpop.loc[worldpop['Country Name']==country]\n",
    "\n",
    "# Drop all labels except for year columns\n",
    "country_data = country_data.drop(columns=['Country Name', 'Country Code', 'Indicator Name', 'Indicator Code'], axis=1)\n",
    "\n",
    "# Drop all NaN values\n",
    "country_data.dropna(axis=1, inplace=True)\n",
    "\n",
    "# Take the transpose (flip df)\n",
    "country_data = country_data.T\n",
    "\n",
    "print(country_data.head())"
   ]
  },
  {
   "cell_type": "code",
   "execution_count": 239,
   "id": "2edb1826",
   "metadata": {},
   "outputs": [
    {
     "name": "stdout",
     "output_type": "stream",
     "text": [
      "   year  population\n",
      "0  1960  52400000.0\n",
      "1  1961  52800000.0\n",
      "2  1962  53250000.0\n",
      "3  1963  53650000.0\n",
      "4  1964  54000000.0\n"
     ]
    }
   ],
   "source": [
    "# Rename indices\n",
    "country_index = worldpop.index[worldpop['Country Name']==country].values\n",
    "country_data = country_data.reset_index().rename(columns={'index':'year', country_index[0]:'population'})\n",
    "\n",
    "print(country_data.head())"
   ]
  },
  {
   "cell_type": "markdown",
   "id": "ad3a96e4",
   "metadata": {},
   "source": [
    "## Assign x and y variables"
   ]
  },
  {
   "cell_type": "code",
   "execution_count": 240,
   "id": "e9747bc2",
   "metadata": {},
   "outputs": [
    {
     "name": "stdout",
     "output_type": "stream",
     "text": [
      "x values:\n",
      " [[1960]\n",
      " [1961]\n",
      " [1962]\n",
      " [1963]\n",
      " [1964]] \n",
      "  ...\n",
      "y values:\n",
      " [[52400000]\n",
      " [52800000]\n",
      " [53250000]\n",
      " [53650000]\n",
      " [54000000]] \n",
      "  ...\n"
     ]
    }
   ],
   "source": [
    "# Equate x to only yearly values\n",
    "# Reshape nparray to be of a tbd # of rows and only one col\n",
    "x = country_data.iloc[:, 0].values.reshape(-1,1)\n",
    "x = x.astype(np.int64)\n",
    "print(\"x values:\\n\", x[0:5,:], \"\\n  ...\")\n",
    "\n",
    "# Equate y to only population valuess\n",
    "# Reshape nparray to be of a tbd # of rows and only one col\n",
    "y = country_data.iloc[:, 1].values.reshape(-1,1)\n",
    "y = y.astype(np.int64)\n",
    "print(\"y values:\\n\", y[0:5,:], \"\\n  ...\")"
   ]
  },
  {
   "cell_type": "markdown",
   "id": "b8f1874d",
   "metadata": {},
   "source": [
    "## Graph Data"
   ]
  },
  {
   "cell_type": "code",
   "execution_count": 241,
   "id": "6b18750d",
   "metadata": {},
   "outputs": [
    {
     "data": {
      "image/png": "[encoded data removed]",
      "text/plain": [
       "<Figure size 432x288 with 1 Axes>"
      ]
     },
     "metadata": {
      "needs_background": "light"
     },
     "output_type": "display_data"
    }
   ],
   "source": [
    "# Plotting Data Points\n",
    "plt.scatter(x, y, s=8, color='purple')\n",
    "\n",
    "# Graph Formatting\n",
    "plt.xlabel('Year', fontsize=14)\n",
    "plt.ylabel('Population', fontsize=12)\n",
    "plt.grid(True)\n",
    "plt.show()"
   ]
  },
  {
   "cell_type": "markdown",
   "id": "dcd8a515",
   "metadata": {},
   "source": [
    "## Train/Test Split Data"
   ]
  },
  {
   "cell_type": "code",
   "execution_count": 242,
   "id": "91393a22",
   "metadata": {},
   "outputs": [
    {
     "name": "stdout",
     "output_type": "stream",
     "text": [
      "(49, 1) (13, 1) (49, 1) (13, 1)\n"
     ]
    }
   ],
   "source": [
    "x_train, x_test, y_train, y_test = train_test_split(x, y, test_size=0.2, random_state=1)\n",
    "print(x_train.shape, x_test.shape, y_train.shape, y_test.shape)"
   ]
  },
  {
   "cell_type": "markdown",
   "id": "57bfef6e",
   "metadata": {},
   "source": [
    "## Train and Predict Data"
   ]
  },
  {
   "cell_type": "code",
   "execution_count": 243,
   "id": "d675e7f4",
   "metadata": {},
   "outputs": [],
   "source": [
    "# Train Linear Regression Model\n",
    "linr_model = LinearRegression().fit(x_train, y_train)\n",
    "\n",
    "# Train Polynomial Regression Model \n",
    "# - transform x values to expand over all possible combinations \n",
    "#   of x features less than or equal to the (3rd) degree\n",
    "poly = PolynomialFeatures(degree=3)\n",
    "x_train_poly = poly.fit_transform(x_train)\n",
    "x_test_poly = poly.transform(x_test)\n",
    "poly_model = LinearRegression().fit(x_train_poly, y_train)\n",
    "\n",
    "# Observing polynomial features generation\n",
    "# print(f\"Data from x training set:\\n{x_train[0:5,:]}\")\n",
    "# print(f\"Data from transformed x training set:\\n{x_train_poly[0:5, :].astype(np.int64)}\")"
   ]
  },
  {
   "cell_type": "markdown",
   "id": "e251f95a",
   "metadata": {},
   "source": [
    "## Predict Data"
   ]
  },
  {
   "cell_type": "code",
   "execution_count": 244,
   "id": "7461428b",
   "metadata": {},
   "outputs": [],
   "source": [
    "# Predict Data using Linear Regression model\n",
    "y_train_linr_pred = linr_model.predict(x_train)\n",
    "# Predict on unknown testing data set\n",
    "y_test_linr_pred = linr_model.predict(x_test)\n",
    "\n",
    "# Predict Data using Polynomial Regression model\n",
    "y_train_poly_pred = poly_model.predict(x_train_poly)\n",
    "# Predict on unknown testing data set\n",
    "y_test_poly_pred = poly_model.predict(x_test_poly)"
   ]
  },
  {
   "cell_type": "markdown",
   "id": "9ea06c70",
   "metadata": {},
   "source": [
    "## Compare Actual and Predicted Values"
   ]
  },
  {
   "cell_type": "code",
   "execution_count": 245,
   "id": "f5b29247",
   "metadata": {},
   "outputs": [
    {
     "name": "stdout",
     "output_type": "stream",
     "text": [
      "   Year    Actual  Predicted (LR)  Predicted (PR)\n",
      "0  2015  65116219        63789613        64722204\n",
      "1  2007  61322463        62150362        61118294\n",
      "2  1963  53650000        53134481        53854093\n",
      "3  2000  58892514        60716017        59103119\n",
      "4  1987  56802050        58052234        57126101\n",
      "5  1970  55663250        54568826        55274197\n",
      "6  2014  64602298        63584707        64181657\n",
      "7  1979  56246951        56412983        56369787\n",
      "8  1991  57424897        58871860        57573287\n",
      "9  2018  66460344        64404332        66517328\n"
     ]
    }
   ],
   "source": [
    "# Compare training data sets\n",
    "train_compare = pd.DataFrame({'Year': x_train.flatten(), 'Actual': y_train.flatten(), \\\n",
    "                        'Predicted (LR)': y_train_linr_pred.astype(np.int64).flatten(), \\\n",
    "                        'Predicted (PR)': y_train_poly_pred.astype(np.int64).flatten()})\n",
    "print(train_compare.head(10))"
   ]
  },
  {
   "cell_type": "code",
   "execution_count": 246,
   "id": "bf5b1c92",
   "metadata": {},
   "outputs": [
    {
     "name": "stdout",
     "output_type": "stream",
     "text": [
      "   Year    Actual  Predicted (LR)  Predicted (PR)\n",
      "0  1981  56333829        56822796        56558967\n",
      "1  2012  63700215        63174894        63182094\n",
      "2  1998  58487141        60306204        58678219\n",
      "3  1984  56422072        57437515        56836101\n",
      "4  1962  53250000        52929574        53590979\n",
      "5  2001  59119673        60920924        59338109\n",
      "6  2020  67081000        64814145        67867324\n",
      "7  2010  62766365        62765081        62285456\n",
      "8  1995  58019030        59691485        58140552\n",
      "9  2004  59987905        61535643        60143656\n"
     ]
    }
   ],
   "source": [
    "# Compare testing data sets\n",
    "test_compare = pd.DataFrame({'Year': x_test.flatten(), 'Actual': y_test.flatten(), \\\n",
    "                        'Predicted (LR)': y_test_linr_pred.astype(np.int64).flatten(), \\\n",
    "                        'Predicted (PR)': y_test_poly_pred.astype(np.int64).flatten()})\n",
    "print(test_compare.head(10))"
   ]
  },
  {
   "cell_type": "markdown",
   "id": "48aa020f",
   "metadata": {},
   "source": [
    "## Make Individual Prediction"
   ]
  },
  {
   "cell_type": "code",
   "execution_count": 247,
   "id": "25127b1b",
   "metadata": {},
   "outputs": [
    {
     "name": "stdout",
     "output_type": "stream",
     "text": [
      "Enter year(1960-) for prediction: 2020\n",
      "Predicted population in 2020 using Linear Regression model: 64,814,146\n",
      "Predicted population in 2020 using Polynomial Regression model: 67,867,324\n"
     ]
    }
   ],
   "source": [
    "year = int(input(\"Enter year(1960-) for prediction: \"))\n",
    "\n",
    "# With Linear Regression\n",
    "linr_pred = linr_model.predict([[year]]) # y = (coef_)x + (intercept_)\n",
    "linr_pred = round(linr_pred[0,0])\n",
    "print(f\"Predicted population in {year} using Linear Regression model: {'{:,}'.format(linr_pred)}\")\n",
    "\n",
    "# With Polynomial Regression\n",
    "poly_pred = poly_model.predict(poly.transform([[year]]))\n",
    "poly_pred = round(poly_pred[0,0])\n",
    "print(f\"Predicted population in {year} using Polynomial Regression model: {'{:,}'.format(poly_pred)}\")"
   ]
  },
  {
   "cell_type": "markdown",
   "id": "b0933d72",
   "metadata": {},
   "source": [
    "## Graph Regression Line"
   ]
  },
  {
   "cell_type": "code",
   "execution_count": 248,
   "id": "32e73e73",
   "metadata": {},
   "outputs": [
    {
     "data": {
      "image/png": "[encoded data removed]",
      "text/plain": [
       "<Figure size 432x288 with 1 Axes>"
      ]
     },
     "metadata": {
      "needs_background": "light"
     },
     "output_type": "display_data"
    }
   ],
   "source": [
    "# Plotting Data Points\n",
    "plt.scatter(x_train, y_train, s=8, color='purple', label='Train Data')\n",
    "plt.plot(x_test, y_test, '.', color='pink', label='Test Data')\n",
    "\n",
    "# Plotting Linear Regression Line\n",
    "plt.plot(x_train, y_train_linr_pred, color='limegreen', lw=3, label='LR Line')\n",
    "\n",
    "# Graph Formatting\n",
    "plt.title('Linear Regression Line', fontsize=14)\n",
    "plt.xlabel('Year', fontsize=12)\n",
    "plt.ylabel('Population', fontsize=12)\n",
    "plt.legend(loc='upper left')\n",
    "plt.grid(True)\n",
    "plt.show()"
   ]
  },
  {
   "cell_type": "code",
   "execution_count": 249,
   "id": "2903a5f2",
   "metadata": {},
   "outputs": [
    {
     "data": {
      "image/png": "[encoded data removed]",
      "text/plain": [
       "<Figure size 432x288 with 1 Axes>"
      ]
     },
     "metadata": {
      "needs_background": "light"
     },
     "output_type": "display_data"
    }
   ],
   "source": [
    "# Plotting Data Points \n",
    "plt.scatter(x_train, y_train, s=8, color='purple', label='Train Data')\n",
    "plt.plot(x_test, y_test, '.', color='thistle', label='Test Data')\n",
    "\n",
    "# Plotting Polynomial Regression Line\n",
    "line = np.linspace(x_train.min(), x_train.max(), np.size(x_train, 0)).reshape(-1,1)\n",
    "poly_line = poly.transform(line)\n",
    "plt.plot(line, poly_model.predict(poly_line), color='limegreen', lw=3, label='PR Line')\n",
    "\n",
    "# Graph Formatting\n",
    "plt.title('Polynomial Regression Line', fontsize=14)\n",
    "plt.xlabel('Year', fontsize=12)\n",
    "plt.ylabel('Population', fontsize=12)\n",
    "plt.legend(loc='upper left')\n",
    "plt.grid(True)\n",
    "plt.show()"
   ]
  },
  {
   "cell_type": "markdown",
   "id": "feb1f376",
   "metadata": {},
   "source": [
    "## Get Regression Line Slope and y-Intercept Values"
   ]
  },
  {
   "cell_type": "code",
   "execution_count": 250,
   "id": "d4ac2c5a",
   "metadata": {},
   "outputs": [
    {
     "name": "stdout",
     "output_type": "stream",
     "text": [
      "Linear Regression coefficient: 204906.3916904614\n",
      "Linear Regression intercept: -349096765.6117816\n",
      "\n",
      "Polynomial Regression coefficients: [ 0.00000000e+00  1.70541301e+09 -8.60251018e+05  1.44651521e+02]\n",
      "Polynomial Regression intercept: -1126975015128.3945\n"
     ]
    }
   ],
   "source": [
    "# Linear Regression\n",
    "print(f\"Linear Regression coefficient: {linr_model.coef_[0,0]}\")\n",
    "print(f\"Linear Regression intercept: {linr_model.intercept_[0]}\")\n",
    "   \n",
    "# Polynomial Regression\n",
    "print(f\"\\nPolynomial Regression coefficients: {poly_model.coef_[0,0:5]}\")\n",
    "print(f\"Polynomial Regression intercept: {poly_model.intercept_[0]}\")"
   ]
  },
  {
   "cell_type": "markdown",
   "id": "6cfec510",
   "metadata": {},
   "source": [
    "## Make Individual Predictions"
   ]
  },
  {
   "cell_type": "markdown",
   "id": "a63cc4aa",
   "metadata": {},
   "source": [
    "## Run Accuracy Analysis"
   ]
  },
  {
   "cell_type": "code",
   "execution_count": 251,
   "id": "4411a550",
   "metadata": {},
   "outputs": [
    {
     "name": "stdout",
     "output_type": "stream",
     "text": [
      "Linear Regression r2 score: 0.9067\n",
      "Polynomial Regression r2 score: 0.9921\n",
      "Linear Regression RMSE score: 1205167.7465\n",
      "Polynomial Regression RMSE score: 350867.2897\n"
     ]
    }
   ],
   "source": [
    "# Calculate R-Squared Score Sans Cross Validation\n",
    "\n",
    "# Linear Regression \n",
    "linr_r2 = r2_score(y_train, y_train_linr_pred)\n",
    "print(f\"Linear Regression r2 score: {linr_r2:.4f}\")\n",
    "\n",
    "# Polynomial Regression\n",
    "poly_r2 = r2_score(y_train, y_train_poly_pred)\n",
    "print(f\"Polynomial Regression r2 score: {poly_r2:.4f}\")\n",
    "\n",
    "# Calculate RMSE Score Sans Cross Validation\n",
    "\n",
    "# Linear Regression\n",
    "linr_rmse = mean_squared_error(y_train, y_train_linr_pred, squared=False)\n",
    "print(f\"Linear Regression RMSE score: {linr_rmse:.4f}\")\n",
    "\n",
    "# Polynomial Regression\n",
    "poly_rmse = mean_squared_error(y_train, y_train_poly_pred, squared=False)\n",
    "print(f\"Polynomial Regression RMSE score: {poly_rmse:.4f}\")"
   ]
  },
  {
   "cell_type": "code",
   "execution_count": 252,
   "id": "a97195f2",
   "metadata": {},
   "outputs": [
    {
     "name": "stdout",
     "output_type": "stream",
     "text": [
      "Linear Regression K-fold r2 scores:\n",
      "[0.89186961 0.92693585 0.88014267 0.84802406 0.9164015  0.90955971\n",
      " 0.84530232 0.9117944  0.87965659 0.90428556 0.81034596 0.91839347\n",
      " 0.89615146 0.91914332 0.89342634 0.84900384 0.8819698  0.91502662\n",
      " 0.75526643 0.73582003 0.90080678 0.84407537 0.86222039 0.89681869\n",
      " 0.92413222]\n",
      "\n",
      "Polynomial Regression K-fold r2 scores:\n",
      "[0.98196117 0.99412684 0.9708216  0.99676366 0.98835996 0.99193265\n",
      " 0.99189918 0.97325939 0.98817943 0.99028571 0.99397618 0.98721097\n",
      " 0.98879496 0.96228861 0.98954375 0.98520402 0.99316489 0.99283775\n",
      " 0.97780834 0.99132341 0.99260666 0.98070938 0.98791749 0.9902087\n",
      " 0.99585468]\n"
     ]
    }
   ],
   "source": [
    "# Calculate Cross Validation Repeated K-fold R-Squared Scores\n",
    "\n",
    "# Linear Regression\n",
    "linr_kfold_scores_r2 = cross_val_score(linr_model, x_train, y_train, scoring='r2', \\\n",
    "                                       cv=RepeatedKFold(n_splits=5, n_repeats=5))\n",
    "print(f\"Linear Regression K-fold r2 scores:\\n{linr_kfold_scores_r2}\")\n",
    "\n",
    "# Polynomial Regression\n",
    "poly_kfold_scores_r2 = cross_val_score(poly_model, x_train_poly, y_train, scoring='r2', \\\n",
    "                                       cv=RepeatedKFold(n_splits=5, n_repeats=5))\n",
    "print(f\"\\nPolynomial Regression K-fold r2 scores:\\n{poly_kfold_scores_r2}\")"
   ]
  },
  {
   "cell_type": "code",
   "execution_count": 253,
   "id": "8c332f62",
   "metadata": {},
   "outputs": [
    {
     "name": "stdout",
     "output_type": "stream",
     "text": [
      "Linear Regression Cross Validated R-Square Score: 0.8767\n",
      "Linear Regression Cross Validation Score Variability: 0.0487\n",
      "\n",
      "Polynomial Regression Cross Validated R-Square Score: 0.9871\n",
      "Polynomial Regression Cross Validation Score Variability: 0.0082\n"
     ]
    }
   ],
   "source": [
    "# Calculate mean and variability of the calculated K-fold R-Squared Scores\n",
    "\n",
    "# Linear Regression\n",
    "linr_cv_score_r2 = np.mean(linr_kfold_scores_r2)\n",
    "print(f\"Linear Regression Cross Validated R-Square Score: {linr_cv_score_r2:.4f}\")\n",
    "linr_cv_score_std_r2 = np.std(linr_kfold_scores_r2)\n",
    "print(f\"Linear Regression Cross Validation Score Variability: {linr_cv_score_std_r2:.4f}\")\n",
    "\n",
    "# Polynomial Regression\n",
    "poly_cv_score_r2 = np.mean(poly_kfold_scores_r2)\n",
    "print(f\"\\nPolynomial Regression Cross Validated R-Square Score: {poly_cv_score_r2:.4f}\")\n",
    "poly_cv_score_std_r2 = np.std(poly_kfold_scores_r2)\n",
    "print(f\"Polynomial Regression Cross Validation Score Variability: {poly_cv_score_std_r2:.4f}\")"
   ]
  },
  {
   "cell_type": "code",
   "execution_count": 254,
   "id": "4fc53d24",
   "metadata": {},
   "outputs": [
    {
     "name": "stdout",
     "output_type": "stream",
     "text": [
      "Linear Regression K-fold RMSE scores:\n",
      "[1520972.32301869 1439125.30489277 1132112.69154731 1375368.38056024\n",
      " 1097511.87486823 1336642.72938474 1219813.60158289 1453717.34390111\n",
      " 1212715.0113286   945050.76917943 1252821.4811904  1250258.99970003\n",
      " 1328811.02409047 1144647.36868799 1340351.05318843 1054835.65605265\n",
      " 1373927.57775671 1405193.89553901 1092683.47384907 1411060.85422503\n",
      " 1028193.18732702 1339801.72486501 1091592.94117919 1514836.93975731\n",
      " 1206094.7072031 ]\n",
      "\n",
      "Polynomial Regression K-fold scores:\n",
      "[619082.42922527 397652.33967776 307233.4428683  362791.92997517\n",
      " 213348.11895416 266991.19921154 319363.31463396 624002.26101508\n",
      " 384916.07391629 361339.86794663 616189.23176966 345136.58752207\n",
      " 311204.10641973 282449.83128878 696336.52358122 615859.25187944\n",
      " 356657.43759762 535534.4856036  332436.77547649 283215.70663578\n",
      " 321992.11206552 271154.47661087 368528.32938354 362573.82262786\n",
      " 838658.11271819]\n"
     ]
    }
   ],
   "source": [
    "# Calculate Cross Validation Repeated K-fold RMSE Scores\n",
    "\n",
    "# Linear Regression\n",
    "linr_kfold_scores_rmse = cross_val_score(linr_model, x_train, y_train, scoring='neg_mean_squared_error', \\\n",
    "                                         cv=RepeatedKFold(n_splits=5, n_repeats=5))\n",
    "linr_kfold_scores_rmse = np.sqrt(np.abs(linr_kfold_scores_rmse))\n",
    "print(f\"Linear Regression K-fold RMSE scores:\\n{linr_kfold_scores_rmse}\")\n",
    "\n",
    "# Polynomial Regression\n",
    "poly_kfold_scores_rmse = cross_val_score(poly_model, x_train_poly, y_train, scoring='neg_mean_squared_error', \\\n",
    "                                         cv=RepeatedKFold(n_splits=5, n_repeats=5))\n",
    "poly_kfold_scores_rmse = np.sqrt(np.abs(poly_kfold_scores_rmse))\n",
    "print(f\"\\nPolynomial Regression K-fold scores:\\n{poly_kfold_scores_rmse}\")"
   ]
  },
  {
   "cell_type": "code",
   "execution_count": 255,
   "id": "b9148c41",
   "metadata": {},
   "outputs": [
    {
     "name": "stdout",
     "output_type": "stream",
     "text": [
      "Linear Regression Cross Validated RMSE Score: 1262725.6366\n",
      "Linear Regression Cross Validation Score Variability: 156261.4520\n",
      "Polynomial Regression Cross Validated RMSE Score: 415785.9107\n",
      "Polynomial Regression Cross Validation Score Variability: 158051.3396\n"
     ]
    }
   ],
   "source": [
    "# Calculate mean and variability of the calculated K-fold RMSE Scores\n",
    "\n",
    "# Linear Regression\n",
    "linr_cv_score_rmse = np.mean(linr_kfold_scores_rmse)\n",
    "print(f\"Linear Regression Cross Validated RMSE Score: {linr_cv_score_rmse:.4f}\")\n",
    "linr_cv_score_std_rmse = np.std(linr_kfold_scores_rmse)\n",
    "print(f\"Linear Regression Cross Validation Score Variability: {linr_cv_score_std_rmse:.4f}\")\n",
    "\n",
    "# Polynomial Regression\n",
    "poly_cv_score_rmse = np.mean(poly_kfold_scores_rmse)\n",
    "print(f\"Polynomial Regression Cross Validated RMSE Score: {poly_cv_score_rmse:.4f}\")\n",
    "poly_cv_score_std_rmse = np.std(poly_kfold_scores_rmse)\n",
    "print(f\"Polynomial Regression Cross Validation Score Variability: {poly_cv_score_std_rmse:.4f}\")"
   ]
  }
 ],
 "metadata": {
  "kernelspec": {
   "display_name": "Python 3 (ipykernel)",
   "language": "python",
   "name": "python3"
  },
  "language_info": {
   "codemirror_mode": {
    "name": "ipython",
    "version": 3
   },
   "file_extension": ".py",
   "mimetype": "text/x-python",
   "name": "python",
   "nbconvert_exporter": "python",
   "pygments_lexer": "ipython3",
   "version": "3.9.12"
  }
 },
 "nbformat": 4,
 "nbformat_minor": 5
}
